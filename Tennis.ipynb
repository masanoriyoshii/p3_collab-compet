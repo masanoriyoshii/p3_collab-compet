{
 "cells": [
  {
   "cell_type": "markdown",
   "metadata": {},
   "source": [
    "# Collaboration and Competition\n",
    "\n",
    "---\n",
    "\n",
    "In this notebook, you will learn how to use the Unity ML-Agents environment for the third project of the [Deep Reinforcement Learning Nanodegree](https://www.udacity.com/course/deep-reinforcement-learning-nanodegree--nd893) program.\n",
    "\n",
    "### 1. Start the Environment\n",
    "\n",
    "We begin by importing the necessary packages.  If the code cell below returns an error, please revisit the project instructions to double-check that you have installed [Unity ML-Agents](https://github.com/Unity-Technologies/ml-agents/blob/master/docs/Installation.md) and [NumPy](http://www.numpy.org/)."
   ]
  },
  {
   "cell_type": "code",
   "execution_count": 1,
   "metadata": {},
   "outputs": [],
   "source": [
    "from unityagents import UnityEnvironment\n",
    "import numpy as np"
   ]
  },
  {
   "cell_type": "code",
   "execution_count": 2,
   "metadata": {},
   "outputs": [],
   "source": [
    "from agent import Agent\n",
    "from collections import deque\n",
    "import matplotlib.pyplot as plt\n",
    "import torch"
   ]
  },
  {
   "cell_type": "markdown",
   "metadata": {},
   "source": [
    "Next, we will start the environment!  **_Before running the code cell below_**, change the `file_name` parameter to match the location of the Unity environment that you downloaded.\n",
    "\n",
    "- **Mac**: `\"path/to/Tennis.app\"`\n",
    "- **Windows** (x86): `\"path/to/Tennis_Windows_x86/Tennis.exe\"`\n",
    "- **Windows** (x86_64): `\"path/to/Tennis_Windows_x86_64/Tennis.exe\"`\n",
    "- **Linux** (x86): `\"path/to/Tennis_Linux/Tennis.x86\"`\n",
    "- **Linux** (x86_64): `\"path/to/Tennis_Linux/Tennis.x86_64\"`\n",
    "- **Linux** (x86, headless): `\"path/to/Tennis_Linux_NoVis/Tennis.x86\"`\n",
    "- **Linux** (x86_64, headless): `\"path/to/Tennis_Linux_NoVis/Tennis.x86_64\"`\n",
    "\n",
    "For instance, if you are using a Mac, then you downloaded `Tennis.app`.  If this file is in the same folder as the notebook, then the line below should appear as follows:\n",
    "```\n",
    "env = UnityEnvironment(file_name=\"Tennis.app\")\n",
    "```"
   ]
  },
  {
   "cell_type": "code",
   "execution_count": 3,
   "metadata": {},
   "outputs": [
    {
     "name": "stderr",
     "output_type": "stream",
     "text": [
      "INFO:unityagents:\n",
      "'Academy' started successfully!\n",
      "Unity Academy name: Academy\n",
      "        Number of Brains: 1\n",
      "        Number of External Brains : 1\n",
      "        Lesson number : 0\n",
      "        Reset Parameters :\n",
      "\t\t\n",
      "Unity brain name: TennisBrain\n",
      "        Number of Visual Observations (per agent): 0\n",
      "        Vector Observation space type: continuous\n",
      "        Vector Observation space size (per agent): 8\n",
      "        Number of stacked Vector Observation: 3\n",
      "        Vector Action space type: continuous\n",
      "        Vector Action space size (per agent): 2\n",
      "        Vector Action descriptions: , \n"
     ]
    }
   ],
   "source": [
    "env = UnityEnvironment(file_name=\"./Tennis_Windows_x86_64/Tennis.exe\")"
   ]
  },
  {
   "cell_type": "markdown",
   "metadata": {},
   "source": [
    "Environments contain **_brains_** which are responsible for deciding the actions of their associated agents. Here we check for the first brain available, and set it as the default brain we will be controlling from Python."
   ]
  },
  {
   "cell_type": "code",
   "execution_count": 4,
   "metadata": {},
   "outputs": [],
   "source": [
    "# get the default brain\n",
    "brain_name = env.brain_names[0]\n",
    "brain = env.brains[brain_name]"
   ]
  },
  {
   "cell_type": "markdown",
   "metadata": {},
   "source": [
    "### 2. Examine the State and Action Spaces\n",
    "\n",
    "In this environment, two agents control rackets to bounce a ball over a net. If an agent hits the ball over the net, it receives a reward of +0.1.  If an agent lets a ball hit the ground or hits the ball out of bounds, it receives a reward of -0.01.  Thus, the goal of each agent is to keep the ball in play.\n",
    "\n",
    "The observation space consists of 8 variables corresponding to the position and velocity of the ball and racket. Two continuous actions are available, corresponding to movement toward (or away from) the net, and jumping. \n",
    "\n",
    "Run the code cell below to print some information about the environment."
   ]
  },
  {
   "cell_type": "code",
   "execution_count": 5,
   "metadata": {},
   "outputs": [
    {
     "name": "stdout",
     "output_type": "stream",
     "text": [
      "Number of agents: 2\n",
      "Size of each action: 2\n",
      "There are 2 agents. Each observes a state with length: 24\n",
      "The state for the first agent looks like: [ 0.          0.          0.          0.          0.          0.\n",
      "  0.          0.          0.          0.          0.          0.\n",
      "  0.          0.          0.          0.         -6.65278625 -1.5\n",
      " -0.          0.          6.83172083  6.         -0.          0.        ]\n",
      "dones: [False, False]\n"
     ]
    }
   ],
   "source": [
    "# reset the environment\n",
    "env_info = env.reset(train_mode=True)[brain_name]\n",
    "\n",
    "# number of agents \n",
    "num_agents = len(env_info.agents)\n",
    "print('Number of agents:', num_agents)\n",
    "\n",
    "# size of each action\n",
    "action_size = brain.vector_action_space_size\n",
    "print('Size of each action:', action_size)\n",
    "\n",
    "# examine the state space \n",
    "states = env_info.vector_observations\n",
    "state_size = states.shape[1]\n",
    "print('There are {} agents. Each observes a state with length: {}'.format(states.shape[0], state_size))\n",
    "print('The state for the first agent looks like:', states[0])\n",
    "\n",
    "# examine dones\n",
    "print('dones:', env_info.local_done)"
   ]
  },
  {
   "cell_type": "code",
   "execution_count": 6,
   "metadata": {},
   "outputs": [
    {
     "name": "stdout",
     "output_type": "stream",
     "text": [
      "num_agents: 2\n",
      "state_size: 24\n",
      "action_size: 2\n"
     ]
    }
   ],
   "source": [
    "print('num_agents:', num_agents)\n",
    "print('state_size:', state_size)\n",
    "print('action_size:', action_size)\n"
   ]
  },
  {
   "cell_type": "markdown",
   "metadata": {},
   "source": [
    "### 3. Take Random Actions in the Environment\n",
    "\n",
    "In the next code cell, you will learn how to use the Python API to control the agents and receive feedback from the environment.\n",
    "\n",
    "Once this cell is executed, you will watch the agents' performance, if they select actions at random with each time step.  A window should pop up that allows you to observe the agents.\n",
    "\n",
    "Of course, as part of the project, you'll have to change the code so that the agents are able to use their experiences to gradually choose better actions when interacting with the environment!"
   ]
  },
  {
   "cell_type": "code",
   "execution_count": 7,
   "metadata": {},
   "outputs": [],
   "source": [
    "# for i in range(1, 6):                                      # play game for 5 episodes\n",
    "#     env_info = env.reset(train_mode=False)[brain_name]     # reset the environment    \n",
    "#     states = env_info.vector_observations                  # get the current state (for each agent)\n",
    "#     scores = np.zeros(num_agents)                          # initialize the score (for each agent)\n",
    "#     while True:\n",
    "#         actions = np.random.randn(num_agents, action_size) # select an action (for each agent)\n",
    "#         actions = np.clip(actions, -1, 1)                  # all actions between -1 and 1\n",
    "#         env_info = env.step(actions)[brain_name]           # send all actions to tne environment\n",
    "#         next_states = env_info.vector_observations         # get next state (for each agent)\n",
    "#         rewards = env_info.rewards                         # get reward (for each agent)\n",
    "#         dones = env_info.local_done                        # see if episode finished\n",
    "#         scores += env_info.rewards                         # update the score (for each agent)\n",
    "#         states = next_states                               # roll over states to next time step\n",
    "#         if np.any(dones):                                  # exit loop if episode finished\n",
    "#             break\n",
    "#     print('Score (max over agents) from episode {}: {}'.format(i, np.max(scores)))"
   ]
  },
  {
   "cell_type": "markdown",
   "metadata": {},
   "source": [
    "When finished, you can close the environment."
   ]
  },
  {
   "cell_type": "code",
   "execution_count": 8,
   "metadata": {},
   "outputs": [],
   "source": [
    "# env.close()"
   ]
  },
  {
   "cell_type": "markdown",
   "metadata": {},
   "source": [
    "### 4. It's Your Turn!\n",
    "\n",
    "Now it's your turn to train your own agent to solve the environment!  When training the environment, set `train_mode=True`, so that the line for resetting the environment looks like the following:\n",
    "```python\n",
    "env_info = env.reset(train_mode=True)[brain_name]\n",
    "```"
   ]
  },
  {
   "cell_type": "code",
   "execution_count": 9,
   "metadata": {},
   "outputs": [],
   "source": [
    "def maddpg(n_episodes=1000, print_every=100):\n",
    "    \n",
    "    scores_ep = []\n",
    "    scores_avg = []\n",
    "    scores_deque = deque(maxlen=100)\n",
    "    scores_deque_max = deque(maxlen = print_every)\n",
    "    \n",
    "    for i_episode in range(1, n_episodes+1):\n",
    "\n",
    "        env_info = env.reset(train_mode=True)[brain_name]\n",
    "        \n",
    "        states = env_info.vector_observations\n",
    "\n",
    "        for agent in agents:\n",
    "            agent.reset() \n",
    "        \n",
    "        scores = np.zeros(num_agents)  \n",
    "        \n",
    "        t = 0\n",
    "            \n",
    "        while True:\n",
    "                                                \n",
    "                                \n",
    "            actions = np.concatenate(np.array([agent.act(states) for agent in agents]), axis=0)        # select an action\n",
    "                        \n",
    "            env_info = env.step(actions)[brain_name]           # send all actions to tne environment\n",
    "            next_states = env_info.vector_observations         # get next state (for each agent)\n",
    "            rewards = env_info.rewards                         # get reward (for each agent)\n",
    "            dones = env_info.local_done                        # see if episode finished\n",
    "            \n",
    "            for agent in agents:\n",
    "                agent.step(states, actions, rewards, next_states, dones, t)             \n",
    "            \n",
    "            states = next_states                               # roll over states to next time step\n",
    "            scores += np.array(rewards)                          # update the score (for each agent)\n",
    "            \n",
    "            print\n",
    "            \n",
    "            t += 1\n",
    "            \n",
    "            if (i_episode > 1):\n",
    "                print('\\rep:{:05}\\tts:{:08}\\ts0:{: .2f}\\ts1:{: .2f}\\tprv:{:.2f}\\tavg:{:.2f}\\tmax:{:.2f}'.format(i_episode, t, scores[0], scores[1], scores_ep[-1], np.mean(scores_deque), np.max(scores_deque_max)), end=\"\")\n",
    "                        \n",
    "            if np.any(dones):                                  # exit loop if episode finished                \n",
    "                break\n",
    "                \n",
    "                \n",
    "        scores_ep.append(np.max(scores))           # save mean score for the episode\n",
    "        scores_deque.append(scores_ep[-1])\n",
    "        scores_avg.append(np.mean(scores_deque))\n",
    "        scores_deque_max.append(scores_ep[-1])\n",
    "        \n",
    "#         print('\\rEpisode {}\\tScore: {:.2f}\\tAverage score over 100 episodes: {:.2f}\\tMax score over {} episodes: {:.2f}'.format(i_episode, scores_ep[-1], np.mean(scores_deque), print_every, np.max(scores_deque_max)), end=\"\")\n",
    "\n",
    "        \n",
    "        if np.mean(scores_deque) >= 0.5:        \n",
    "            \n",
    "            torch.save(agents[0].actor_local.state_dict(), 'checkpoint_actor_0.pth')\n",
    "            torch.save(agents[0].critic_local.state_dict(), 'checkpoint_critic_0.pth')\n",
    "            torch.save(agents[1].actor_local.state_dict(), 'checkpoint_actor_1.pth')\n",
    "            torch.save(agents[1].critic_local.state_dict(), 'checkpoint_critic_1.pth')\n",
    "            \n",
    "            print('\\rThe Environment Was Solved at Episode {}\\tScore: {:.2f}\\tAverage score over 100 episodes: {:.2f}\\tMax score over {} episodes: {:.2f}'.format(i_episode - 100, scores_ep[-1], np.mean(scores_deque), print_every, np.max(scores_deque_max)))\n",
    "            break\n",
    "        \n",
    "        if i_episode % print_every == 0:\n",
    "            print('\\rEpisode {}\\tScore: {:.2f}\\tAverage score over 100 episodes: {:.2f}\\tMax score over {} episodes: {:.2f}'.format(i_episode, scores_ep[-1], np.mean(scores_deque), print_every, np.max(scores_deque_max)))\n",
    "            \n",
    "    return scores_ep, scores_avg"
   ]
  },
  {
   "cell_type": "code",
   "execution_count": 10,
   "metadata": {},
   "outputs": [],
   "source": [
    "agents = [Agent(state_size=state_size, action_size=action_size, num_agents=num_agents, agent_id = i, random_seed=1) for i in range(num_agents)]"
   ]
  },
  {
   "cell_type": "code",
   "execution_count": 11,
   "metadata": {},
   "outputs": [
    {
     "name": "stdout",
     "output_type": "stream",
     "text": [
      "Episode 50\tScore: 0.00\tAverage score over 100 episodes: 0.00\tMax score over 50 episodes: 0.00\n",
      "Episode 100\tScore: 0.00\tAverage score over 100 episodes: 0.00\tMax score over 50 episodes: 0.10\n",
      "Episode 150\tScore: 0.00\tAverage score over 100 episodes: 0.01\tMax score over 50 episodes: 0.10\n",
      "Episode 200\tScore: 0.00\tAverage score over 100 episodes: 0.02\tMax score over 50 episodes: 0.20\n",
      "Episode 250\tScore: 0.00\tAverage score over 100 episodes: 0.04\tMax score over 50 episodes: 0.10\n",
      "Episode 300\tScore: 0.00\tAverage score over 100 episodes: 0.06\tMax score over 50 episodes: 0.20\n",
      "Episode 350\tScore: 0.00\tAverage score over 100 episodes: 0.08\tMax score over 50 episodes: 0.20\n",
      "Episode 400\tScore: 0.09\tAverage score over 100 episodes: 0.08\tMax score over 50 episodes: 0.20\n",
      "Episode 450\tScore: 0.10\tAverage score over 100 episodes: 0.09\tMax score over 50 episodes: 0.20\n",
      "Episode 500\tScore: 0.20\tAverage score over 100 episodes: 0.10\tMax score over 50 episodes: 0.40\n",
      "Episode 550\tScore: 0.10\tAverage score over 100 episodes: 0.13\tMax score over 50 episodes: 0.49\n",
      "Episode 600\tScore: 0.00\tAverage score over 100 episodes: 0.14\tMax score over 50 episodes: 0.49\n",
      "Episode 650\tScore: 0.10\tAverage score over 100 episodes: 0.11\tMax score over 50 episodes: 0.39\n",
      "Episode 700\tScore: 0.40\tAverage score over 100 episodes: 0.12\tMax score over 50 episodes: 0.80\n",
      "Episode 750\tScore: 0.49\tAverage score over 100 episodes: 0.15\tMax score over 50 episodes: 0.70\n",
      "Episode 800\tScore: 0.30\tAverage score over 100 episodes: 0.21\tMax score over 50 episodes: 0.90\n",
      "Episode 850\tScore: 0.10\tAverage score over 100 episodes: 0.22\tMax score over 50 episodes: 1.10\n",
      "Episode 900\tScore: 0.10\tAverage score over 100 episodes: 0.21\tMax score over 50 episodes: 0.60\n",
      "Episode 950\tScore: 0.60\tAverage score over 100 episodes: 0.21\tMax score over 50 episodes: 0.60\n",
      "Episode 1000\tScore: 0.10\tAverage score over 100 episodes: 0.21\tMax score over 50 episodes: 1.20\n",
      "Episode 1050\tScore: 0.40\tAverage score over 100 episodes: 0.23\tMax score over 50 episodes: 1.10\n",
      "Episode 1100\tScore: 0.50\tAverage score over 100 episodes: 0.40\tMax score over 50 episodes: 2.40\n",
      "Episode 1150\tScore: 0.10\tAverage score over 100 episodes: 0.48\tMax score over 50 episodes: 2.00\n",
      "Episode 1200\tScore: 1.40\tAverage score over 100 episodes: 0.43\tMax score over 50 episodes: 1.80\n",
      "Episode 1250\tScore: 2.50\tAverage score over 100 episodes: 0.44\tMax score over 50 episodes: 2.50\n",
      "Episode 1300\tScore: 0.70\tAverage score over 100 episodes: 0.45\tMax score over 50 episodes: 1.80\n",
      "Episode 1350\tScore: 0.00\tAverage score over 100 episodes: 0.41\tMax score over 50 episodes: 1.30\n",
      "Episode 1400\tScore: 1.50\tAverage score over 100 episodes: 0.49\tMax score over 50 episodes: 2.60\n",
      "The Environment Was Solved at Episode 1328\tScore: 0.60\tAverage score over 100 episodes: 0.50\tMax score over 50 episodes: 2.60\n"
     ]
    }
   ],
   "source": [
    "scores, avgs = maddpg(n_episodes=30000, print_every=50)"
   ]
  },
  {
   "cell_type": "code",
   "execution_count": 12,
   "metadata": {},
   "outputs": [
    {
     "data": {
      "image/png": "[encoded data removed]",
      "text/plain": [
       "<Figure size 432x288 with 1 Axes>"
      ]
     },
     "metadata": {
      "needs_background": "light"
     },
     "output_type": "display_data"
    }
   ],
   "source": [
    "fig = plt.figure()\n",
    "ax = fig.add_subplot(111)\n",
    "plt.plot(np.arange(len(scores)), scores, label='each ep')\n",
    "plt.plot(np.arange(len(scores)), avgs, c='r', label='avg over 100 ep')\n",
    "plt.ylabel('Score')\n",
    "plt.xlabel('Episode #')\n",
    "plt.legend(loc='upper left');\n",
    "plt.show()"
   ]
  },
  {
   "cell_type": "code",
   "execution_count": 13,
   "metadata": {},
   "outputs": [],
   "source": [
    "env.close()"
   ]
  },
  {
   "cell_type": "code",
   "execution_count": null,
   "metadata": {},
   "outputs": [],
   "source": []
  },
  {
   "cell_type": "code",
   "execution_count": null,
   "metadata": {},
   "outputs": [],
   "source": []
  },
  {
   "cell_type": "code",
   "execution_count": null,
   "metadata": {},
   "outputs": [],
   "source": []
  }
 ],
 "metadata": {
  "kernelspec": {
   "display_name": "drlnd",
   "language": "python",
   "name": "drlnd"
  },
  "language_info": {
   "codemirror_mode": {
    "name": "ipython",
    "version": 3
   },
   "file_extension": ".py",
   "mimetype": "text/x-python",
   "name": "python",
   "nbconvert_exporter": "python",
   "pygments_lexer": "ipython3",
   "version": "3.6.10"
  }
 },
 "nbformat": 4,
 "nbformat_minor": 2
}
